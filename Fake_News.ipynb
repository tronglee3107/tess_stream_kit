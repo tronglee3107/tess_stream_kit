{
 "cells": [
  {
   "cell_type": "code",
   "execution_count": 1,
   "metadata": {
    "id": "n-qL9H4ITrvE"
   },
   "outputs": [],
   "source": [
    "import numpy as np\n",
    "import pandas as pd\n",
    "import re\n",
    "import itertools\n",
    "from sklearn.model_selection import train_test_split\n",
    "from sklearn.feature_extraction.text import TfidfVectorizer\n",
    "from sklearn.linear_model import PassiveAggressiveClassifier\n",
    "from sklearn.metrics import accuracy_score, confusion_matrix\n"
   ]
  },
  {
   "cell_type": "code",
   "execution_count": 12,
   "metadata": {
    "id": "Bv8o4sM5TrvJ",
    "outputId": "78e94edb-ea79-4494-a057-da21b3223941",
    "scrolled": true
   },
   "outputs": [
    {
     "data": {
      "text/html": [
       "<div>\n",
       "<style scoped>\n",
       "    .dataframe tbody tr th:only-of-type {\n",
       "        vertical-align: middle;\n",
       "    }\n",
       "\n",
       "    .dataframe tbody tr th {\n",
       "        vertical-align: top;\n",
       "    }\n",
       "\n",
       "    .dataframe thead th {\n",
       "        text-align: right;\n",
       "    }\n",
       "</style>\n",
       "<table border=\"1\" class=\"dataframe\">\n",
       "  <thead>\n",
       "    <tr style=\"text-align: right;\">\n",
       "      <th></th>\n",
       "      <th>text</th>\n",
       "      <th>domain</th>\n",
       "      <th>label</th>\n",
       "    </tr>\n",
       "  </thead>\n",
       "  <tbody>\n",
       "    <tr>\n",
       "      <th>0</th>\n",
       "      <td>Thủ tướng Abe cúi đầu xin lỗi vì hành động phi...</td>\n",
       "      <td>binhluan.biz</td>\n",
       "      <td>1</td>\n",
       "    </tr>\n",
       "    <tr>\n",
       "      <th>1</th>\n",
       "      <td>Thủ tướng Nhật cúi đầu xin lỗi vì tinh thần ph...</td>\n",
       "      <td>www.ipick.vn</td>\n",
       "      <td>1</td>\n",
       "    </tr>\n",
       "    <tr>\n",
       "      <th>2</th>\n",
       "      <td>Choáng! Cơ trưởng đeo khăn quàng quẩy banh nóc...</td>\n",
       "      <td>tintucqpvn.net</td>\n",
       "      <td>1</td>\n",
       "    </tr>\n",
       "    <tr>\n",
       "      <th>3</th>\n",
       "      <td>Chưa bao giờ nhạc Kpop lại dễ hát đến thế!!!\\n...</td>\n",
       "      <td>tintucqpvn.net</td>\n",
       "      <td>1</td>\n",
       "    </tr>\n",
       "    <tr>\n",
       "      <th>4</th>\n",
       "      <td>Đại học Hutech sẽ áp dụng cải cách \"Tiếq Việt\"...</td>\n",
       "      <td>www.gioitreviet.net</td>\n",
       "      <td>1</td>\n",
       "    </tr>\n",
       "    <tr>\n",
       "      <th>...</th>\n",
       "      <td>...</td>\n",
       "      <td>...</td>\n",
       "      <td>...</td>\n",
       "    </tr>\n",
       "    <tr>\n",
       "      <th>218</th>\n",
       "      <td>“Siêu máy bay” A350 sẽ chở CĐV Việt Nam đi Mal...</td>\n",
       "      <td>dantri.com.vn</td>\n",
       "      <td>0</td>\n",
       "    </tr>\n",
       "    <tr>\n",
       "      <th>219</th>\n",
       "      <td>Thưởng 20.000 USD cho đội tuyển cờ vua Việt Na...</td>\n",
       "      <td>dantri.com.vn</td>\n",
       "      <td>0</td>\n",
       "    </tr>\n",
       "    <tr>\n",
       "      <th>220</th>\n",
       "      <td>Trường Sơn giành HCV tại giải cờ vua đồng đội ...</td>\n",
       "      <td>dantri.com.vn</td>\n",
       "      <td>0</td>\n",
       "    </tr>\n",
       "    <tr>\n",
       "      <th>221</th>\n",
       "      <td>Chuyện về chàng sinh viên Luật - Kiện tướng Lê...</td>\n",
       "      <td>dantri.com.vn</td>\n",
       "      <td>0</td>\n",
       "    </tr>\n",
       "    <tr>\n",
       "      <th>222</th>\n",
       "      <td>Tiền đạo Malaysia: “Tôi đã có cách vượt qua hà...</td>\n",
       "      <td>dantri.com.vn</td>\n",
       "      <td>0</td>\n",
       "    </tr>\n",
       "  </tbody>\n",
       "</table>\n",
       "<p>223 rows × 3 columns</p>\n",
       "</div>"
      ],
      "text/plain": [
       "                                                  text               domain  \\\n",
       "0    Thủ tướng Abe cúi đầu xin lỗi vì hành động phi...         binhluan.biz   \n",
       "1    Thủ tướng Nhật cúi đầu xin lỗi vì tinh thần ph...         www.ipick.vn   \n",
       "2    Choáng! Cơ trưởng đeo khăn quàng quẩy banh nóc...       tintucqpvn.net   \n",
       "3    Chưa bao giờ nhạc Kpop lại dễ hát đến thế!!!\\n...       tintucqpvn.net   \n",
       "4    Đại học Hutech sẽ áp dụng cải cách \"Tiếq Việt\"...  www.gioitreviet.net   \n",
       "..                                                 ...                  ...   \n",
       "218  “Siêu máy bay” A350 sẽ chở CĐV Việt Nam đi Mal...        dantri.com.vn   \n",
       "219  Thưởng 20.000 USD cho đội tuyển cờ vua Việt Na...        dantri.com.vn   \n",
       "220  Trường Sơn giành HCV tại giải cờ vua đồng đội ...        dantri.com.vn   \n",
       "221  Chuyện về chàng sinh viên Luật - Kiện tướng Lê...        dantri.com.vn   \n",
       "222  Tiền đạo Malaysia: “Tôi đã có cách vượt qua hà...        dantri.com.vn   \n",
       "\n",
       "     label  \n",
       "0        1  \n",
       "1        1  \n",
       "2        1  \n",
       "3        1  \n",
       "4        1  \n",
       "..     ...  \n",
       "218      0  \n",
       "219      0  \n",
       "220      0  \n",
       "221      0  \n",
       "222      0  \n",
       "\n",
       "[223 rows x 3 columns]"
      ]
     },
     "execution_count": 12,
     "metadata": {},
     "output_type": "execute_result"
    }
   ],
   "source": [
    "# Đọc dữ liệu vào dataframe\n",
    "df=pd.read_csv(\"vn_news_223_tdlfr.csv\")\n",
    "df\n"
   ]
  },
  {
   "cell_type": "code",
   "execution_count": null,
   "metadata": {
    "scrolled": true
   },
   "outputs": [],
   "source": []
  },
  {
   "cell_type": "code",
   "execution_count": 3,
   "metadata": {},
   "outputs": [],
   "source": [
    "stop_word=[]\n",
    "with open(\"vietnamese-stopwords.txt\",encoding=\"utf8\") as f:\n",
    "    for i in f:\n",
    "        i=i.replace('\\n','')\n",
    "        stop_word.append(i)"
   ]
  },
  {
   "cell_type": "code",
   "execution_count": 13,
   "metadata": {},
   "outputs": [
    {
     "name": "stderr",
     "output_type": "stream",
     "text": [
      "C:\\Users\\TechCare\\AppData\\Local\\Temp/ipykernel_19472/2039460206.py:11: SettingWithCopyWarning: \n",
      "A value is trying to be set on a copy of a slice from a DataFrame\n",
      "\n",
      "See the caveats in the documentation: https://pandas.pydata.org/pandas-docs/stable/user_guide/indexing.html#returning-a-view-versus-a-copy\n",
      "  df.text[i]= preprocess(df.text[i])\n"
     ]
    },
    {
     "data": {
      "text/plain": [
       "'siêu máy bay a350 chở cđv việt nam đi malaysia cổ vũ kết lượt đi siêu máy bay a350900 vietnam airlines chở cđv việt nam đi malaysia cổ vũ đội tuyển quốc gia đá trận kết lượt đi vietnam airlines 6 chuyến bay cường đi kuala lumpur 3 chuyến khởi hành hà nội 2 chuyến tphcm 1 chuyến đà nẵng chuyến bay vietnam airlines bố trí máy bay a350900 hiện đại tiện nghi ghế 305 chỗ cạnh máy bay a321 tiêu chuẩn 4 quốc tế phục vụ cổ động viên chuyến bay dự kiến khởi hành việt nam đi malaysia việt nam đêm chuyến bay lệ 2 chuyếnngày hà nội tphcm  kuala lumpur 712 1112 vietnam airlines cung 3000 chỗ cổ động viên sân vận động bukit jalil malaysia cổ vũ đội tuyển việt nam ghi chuyến bay vietnam airlines chỗ hãng xây dựng phương án chuyến bố trí máy bay chở cổ động viên phục vụ nhu cầu hâm mộ vietnam airlines phối hợp công ty du lịch xây dựng chương trình du lịch trọn gói 1112 sở kết hợp vé máy bay chuyến bay dịch vụ lữ hành giúp cổ động viên thoải mái tận hưởng khí trận kết lượt đi dịch vụ tour trọn gói bao vé máy bay khứ hồi vé trận kết hướng viên chi phí uống đi miền bắc hà nội đi kuala lumpur hanoi redtours vietravel  ha noi esperantutur bluesky travel miền trung đà nẵng đi đi kuala lumpur vietravel  đà nẵng vietnam travelmart cát việt saigontourist  đà nẵng miền nam tphcm đi kuala lumpur vietravel saigontourist transviet travel thông chi tiết hàng thể truy cập trang web wwwvietnamairlinescom trang facebook thức địa wwwfacebookcomvietnamairlines liên hệ tổng đài trung tâm chăm sóc hàng 1900 1100 nhật minh'"
      ]
     },
     "execution_count": 13,
     "metadata": {},
     "output_type": "execute_result"
    }
   ],
   "source": [
    "def preprocess(a):\n",
    "    a=a.lower()\n",
    "    a=re.sub(r'[^\\w\\s]','', a)\n",
    "    a=a.replace('\\n',' ')\n",
    "    for i in stop_word:\n",
    "        temp=' '+i+' '\n",
    "        if i in a:\n",
    "            a=a.replace(temp,' ')\n",
    "    return a\n",
    "for i in range(0,len(df)):\n",
    "    df.text[i]= preprocess(df.text[i])\n",
    "df.text[218]"
   ]
  },
  {
   "cell_type": "code",
   "execution_count": 5,
   "metadata": {
    "id": "IX0h9j6HTrvM",
    "outputId": "8fc230b7-e201-4f63-ad63-b27967a2322e"
   },
   "outputs": [
    {
     "data": {
      "text/plain": [
       "0    1\n",
       "1    1\n",
       "2    1\n",
       "3    1\n",
       "4    1\n",
       "Name: label, dtype: int64"
      ]
     },
     "execution_count": 5,
     "metadata": {},
     "output_type": "execute_result"
    }
   ],
   "source": [
    "#lấy các nhãn từ Dataframe\n",
    "labels=df.label"
   ]
  },
  {
   "cell_type": "code",
   "execution_count": 6,
   "metadata": {
    "id": "Bu8qIKJxTrvP"
   },
   "outputs": [],
   "source": [
    "#Chia bộ dữ liệu\n",
    "x_train,x_test,y_train,y_test=train_test_split(df['text'], labels, test_size=0.2, random_state=7)"
   ]
  },
  {
   "cell_type": "code",
   "execution_count": 7,
   "metadata": {
    "id": "gKI26L8iTrvR"
   },
   "outputs": [
    {
     "name": "stderr",
     "output_type": "stream",
     "text": [
      "e:\\python39\\lib\\site-packages\\sklearn\\feature_extraction\\text.py:396: UserWarning: Your stop_words may be inconsistent with your preprocessing. Tokenizing the stop words generated tokens ['bao', 'bay', 'biến', 'biệt', 'bây', 'bõm', 'bảo', 'bất', 'bẩy', 'bập', 'bắt', 'bội', 'chao', 'chi', 'chia', 'chu', 'chui', 'chuẩn', 'chà', 'chành', 'chí', 'chót', 'chùn', 'chăn', 'chũn', 'chưng', 'chạnh', 'chả', 'chầm', 'chầy', 'chập', 'chắn', 'chẳng', 'chết', 'chốc', 'chừ', 'chừng', 'coi', 'cu', 'cá', 'câu', 'cóc', 'công', 'cạnh', 'cảm', 'cầu', 'cật', 'cắt', 'cổ', 'cụ', 'cục', 'cực', 'da', 'dà', 'dĩ', 'dưng', 'dần', 'dầu', 'dịp', 'dở', 'dụng', 'gian', 'giá', 'giác', 'giời', 'ha', 'hiện', 'hoàn', 'hèn', 'hình', 'hô', 'hầu', 'hậu', 'hẳn', 'hồ', 'hỗ', 'hội', 'hợp', 'hự', 'khói', 'khô', 'khăn', 'khắc', 'khẳng', 'kia', 'kiện', 'kê', 'kì', 'kìa', 'kỳ', 'lai', 'le', 'liên', 'liệt', 'loạt', 'luận', 'luật', 'luốt', 'lình', 'lí', 'lô', 'lý', 'lập', 'lẽ', 'lị', 'lự', 'lực', 'mày', 'mòi', 'mù', 'mạng', 'mấy', 'mẹ', 'mực', 'nghiễm', 'ngõ', 'ngăn', 'ngắt', 'ngộ', 'ngờ', 'nhiên', 'nhiêu', 'nhiệt', 'nhung', 'nhân', 'nhén', 'nhón', 'nhăng', 'nhược', 'nhỡ', 'nả', 'nỗi', 'nở', 'nức', 'oai', 'phi', 'phui', 'phàm', 'phù', 'phăn', 'phương', 'phỉ', 'quan', 'qui', 'quy', 'quyết', 'ren', 'riu', 'ríu', 'rón', 'rút', 'rốt', 'sa', 'sinh', 'song', 'sả', 'sẻ', 'sốt', 'sột', 'sở', 'sợ', 'sức', 'sử', 'ta', 'te', 'tha', 'than', 'thay', 'thi', 'thiên', 'thiết', 'thoảng', 'thành', 'thái', 'tháo', 'thân', 'thình', 'thúng', 'thương', 'thảo', 'thảy', 'thắng', 'thể', 'thỉnh', 'thị', 'thời', 'thục', 'thử', 'thực', 'tiên', 'tiếp', 'tiện', 'tiệt', 'toàn', 'toé', 'trung', 'tráo', 'trình', 'trí', 'trạng', 'trạo', 'trếu', 'trệu', 'trị', 'trọi', 'trọng', 'trời', 'trở', 'trợ', 'trừ', 'trực', 'tuyệt', 'tuần', 'tuốt', 'tuồn', 'tuồng', 'tuột', 'tà', 'tàn', 'tán', 'tâm', 'tê', 'tì', 'tình', 'tít', 'tò', 'tông', 'tù', 'tăm', 'tả', 'tất', 'tần', 'tập', 'tật', 'tế', 'tề', 'tỏ', 'tốc', 'tối', 'tục', 'tức', 'tử', 'tựu', 'vung', 'vàn', 'ví', 'vô', 'văng', 'vạn', 'vả', 'vấn', 'vẻ', 'vị', 'vốn', 'xiết', 'xon', 'xoành', 'xoạch', 'xuất', 'xón', 'xúi', 'xăm', 'xưa', 'xả', 'xảy', 'xắm', 'xềnh', 'xệch', 'xử', 'xửa', 'yêu', 'âu', 'ôi', 'đi', 'đành', 'đán', 'đánh', 'đáo', 'đùng', 'đơn', 'đạch', 'đại', 'đảm', 'đất', 'đấy', 'đầu', 'đặc', 'đề', 'địa', 'định', 'đối', 'đồ', 'đồng', 'đổi', 'ơn', 'ầu', 'ối'] not in stop_words.\n",
      "  warnings.warn(\n"
     ]
    }
   ],
   "source": [
    "#Khởi tạo TfidfVectorizer\n",
    "tfidf_vectorizer=TfidfVectorizer(stop_words=stop_word, max_df=0.7)\n",
    "\n",
    "#Fit and transform train set, transform test set\n",
    "tfidf_train=tfidf_vectorizer.fit_transform(x_train) \n",
    "tfidf_test=tfidf_vectorizer.transform(x_test)"
   ]
  },
  {
   "cell_type": "code",
   "execution_count": 8,
   "metadata": {
    "id": "-ximHjNzTrvU",
    "outputId": "86388a75-5c40-44ab-ea00-d1228ab457b2",
    "scrolled": true
   },
   "outputs": [
    {
     "name": "stdout",
     "output_type": "stream",
     "text": [
      "Accuracy: 91.11%\n"
     ]
    }
   ],
   "source": [
    "#Khởi tạo PassiveAggressiveClassifier\n",
    "pac=PassiveAggressiveClassifier(max_iter=50)\n",
    "pac.fit(tfidf_train,y_train)\n",
    "\n",
    "#Dự đoán trên test set và tính toán độ chính xác\n",
    "y_pred=pac.predict(tfidf_test)\n",
    "\n",
    "score=accuracy_score(y_test,y_pred)\n",
    "print(f'Accuracy: {round(score*100,2)}%')\n",
    "\n",
    "\n"
   ]
  },
  {
   "cell_type": "code",
   "execution_count": 20,
   "metadata": {},
   "outputs": [
    {
     "name": "stdout",
     "output_type": "stream",
     "text": [
      "[1]\n"
     ]
    }
   ],
   "source": [
    "# sample=[\"siêu máy bay a350 chở cđv việt nam đi malaysia cổ vũ kết lượt đi siêu máy bay a350900 vietnam airlines chở cđv việt nam đi malaysia cổ vũ đội tuyển quốc gia đá trận kết lượt đi vietnam airlines 6 chuyến bay cường đi kuala lumpur 3 chuyến khởi hành hà nội 2 chuyến tphcm 1 chuyến đà nẵng chuyến bay vietnam airlines bố trí máy bay a350900 hiện đại tiện nghi ghế 305 chỗ cạnh máy bay a321 tiêu chuẩn 4 quốc tế phục vụ cổ động viên chuyến bay dự kiến khởi hành việt nam đi malaysia việt nam đêm chuyến bay lệ 2 chuyếnngày hà nội tphcm  kuala lumpur 712 1112 vietnam airlines cung 3000 chỗ cổ động viên sân vận động bukit jalil malaysia cổ vũ đội tuyển việt nam ghi chuyến bay vietnam airlines chỗ hãng xây dựng phương án chuyến bố trí máy bay chở cổ động viên phục vụ nhu cầu hâm mộ vietnam airlines phối hợp công ty du lịch xây dựng chương trình du lịch trọn gói 1112 sở kết hợp vé máy bay chuyến bay dịch vụ lữ hành giúp cổ động viên thoải mái tận hưởng khí trận kết lượt đi dịch vụ tour trọn gói bao vé máy bay khứ hồi vé trận kết hướng viên chi phí uống đi miền bắc hà nội đi kuala lumpur hanoi redtours vietravel  ha noi esperantutur bluesky travel miền trung đà nẵng đi đi kuala lumpur vietravel  đà nẵng vietnam travelmart cát việt saigontourist  đà nẵng miền nam tphcm đi kuala lumpur vietravel saigontourist transviet travel thông chi tiết hàng thể truy cập trang web wwwvietnamairlinescom trang facebook thức địa wwwfacebookcomvietnamairlines liên hệ tổng đài trung tâm chăm sóc hàng 1900 1100 nhật minh\"]\n",
    "# sample_test=pac.predict(sample)\n",
    "# sample=['Mới đây, chuyên gia giáo dục Tô Thụy Diễm Quyên (cô giáo được Microsoft công nhận là chuyên gia giáo dục toàn cầu) cũng có bài viết đưa ra góc nhìn của mình về vụ bé V.A bị Nguyễn Võ Quỳnh Trang hành hạ.']\n",
    "# sample=['Ngày 3/1, Công an TP.Thủ Đức, TPHCM đang lấy lời khai Huỳnh Ngọc Ánh Tuyết (27 tuổi, ngụ Bình Dương), Nguyễn Xuân Mai (19 tuổi, quê Cà Mau), Tống Hoàng Hải (25 tuổi), Nguyễn Thị Khánh Linh (27 tuổi), Phạm Văn Trung (26 tuổi), Ngô Anh Vũ (27 tuổi) và Ngô Thiên Lộc (24 tuổi, ngụ TP.Thủ Đức) về hành vi cố ý gây thương tích. Trước đó vào tối 31/12/2021, chị Huỳnh Thị L. (26 tuổi, quê Tây Ninh) cùng 3 cô gái khác có ngồi cạnh nhóm của Linh gồm khoảng 20 người tại một quán nhậu.Trong lúc ăn uống, một số thanh niên trong nhóm của Linh qua bàn để mời chị L và nhóm bạn uống bia, xin số điện thoại nhưng nhóm chị L không đồng ý nên phát sinh mâu thuẫn. Cho rằng mình bị coi thường, nhóm thanh niên chửi bới và hất bia vào nhóm chị L. Sau đó, Linh cùng Mai, Tuyết... cầm ly bia tấn công nhóm 4 cô gái.']\n",
    "# sample=['Thượng tá Vũ Mạnh Hà, Phó giám đốc Công an tỉnh Thái Bình nói sẽ cho kiểm tra việc Nguyễn Thị Dương lấy sơn móng, son ở đâu để trang điểm trước khi ra tòa. Ông Hà khẳng định, son môi hay vật dụng sơn sửa móng đều bị cấm đưa vào trại giam']\n",
    "# sample=['Bí thư thành phố chỉ đạo: Sẽ không cho người dân di chuyển trong 7 ngày, ở nhà sẽ ở nhà 7 ngày, đi làm công sở thì ở công sở 7 ngày, đi làm phân xưởng thì ở phân xưởng 7 ngày; cơ bản không để cho người dân di chuyển trong 7 ngày']\n",
    "sample=['Anh Kiên là người anh tuyệt vời và rất yêu thương đàn em, không bao giờ chửi đàn em của mình cả']\n",
    "tfidf_test=tfidf_vectorizer.transform(sample)\n",
    "y_pred=pac.predict(tfidf_test)\n",
    "print(y_pred)"
   ]
  },
  {
   "cell_type": "code",
   "execution_count": 10,
   "metadata": {
    "id": "pb2fN4MsTrvX",
    "outputId": "42f49b34-f801-4ec5-ba0a-a95737cfab1f"
   },
   "outputs": [],
   "source": [
    "# #Build confusion matrix\n",
    "# confusion_matrix(y_test,y_pred, labels=[0,1])"
   ]
  },
  {
   "cell_type": "code",
   "execution_count": 23,
   "metadata": {},
   "outputs": [
    {
     "ename": "ImportError",
     "evalue": "cannot import name 'text_preprocessing' from 'utils' (e:\\python39\\lib\\site-packages\\utils\\__init__.py)",
     "output_type": "error",
     "traceback": [
      "\u001b[1;31m---------------------------------------------------------------------------\u001b[0m",
      "\u001b[1;31mImportError\u001b[0m                               Traceback (most recent call last)",
      "\u001b[1;32m~\\AppData\\Local\\Temp/ipykernel_19472/1375079526.py\u001b[0m in \u001b[0;36m<module>\u001b[1;34m\u001b[0m\n\u001b[1;32m----> 1\u001b[1;33m \u001b[1;32mfrom\u001b[0m \u001b[0mutils\u001b[0m \u001b[1;32mimport\u001b[0m \u001b[0mtext_preprocessing\u001b[0m\u001b[1;33m\u001b[0m\u001b[1;33m\u001b[0m\u001b[0m\n\u001b[0m",
      "\u001b[1;31mImportError\u001b[0m: cannot import name 'text_preprocessing' from 'utils' (e:\\python39\\lib\\site-packages\\utils\\__init__.py)"
     ]
    }
   ],
   "source": [
    "from utils import text_preprocessing"
   ]
  }
 ],
 "metadata": {
  "colab": {
   "name": "Fake_News.ipynb",
   "provenance": []
  },
  "kernelspec": {
   "display_name": "Python 3 (ipykernel)",
   "language": "python",
   "name": "python3"
  },
  "language_info": {
   "codemirror_mode": {
    "name": "ipython",
    "version": 3
   },
   "file_extension": ".py",
   "mimetype": "text/x-python",
   "name": "python",
   "nbconvert_exporter": "python",
   "pygments_lexer": "ipython3",
   "version": "3.9.6"
  }
 },
 "nbformat": 4,
 "nbformat_minor": 1
}

{
 "cells": [
  {
   "cell_type": "code",
   "execution_count": 12,
   "id": "94ac0549",
   "metadata": {},
   "outputs": [],
   "source": [
    "import pandas as pd\n",
    "import re\n",
    "from underthesea import word_tokenize\n",
    "from vncorenlp import VnCoreNLP\n",
    "import matplotlib.pyplot as plt\n",
    "\n",
    "import itertools\n",
    "from sklearn.model_selection import train_test_split\n",
    "from sklearn.feature_extraction.text import TfidfVectorizer\n",
    "from sklearn.linear_model import PassiveAggressiveClassifier\n",
    "from sklearn.metrics import accuracy_score, confusion_matrix"
   ]
  },
  {
   "cell_type": "code",
   "execution_count": 2,
   "id": "45c110b7",
   "metadata": {
    "scrolled": false
   },
   "outputs": [
    {
     "data": {
      "text/html": [
       "<div>\n",
       "<style scoped>\n",
       "    .dataframe tbody tr th:only-of-type {\n",
       "        vertical-align: middle;\n",
       "    }\n",
       "\n",
       "    .dataframe tbody tr th {\n",
       "        vertical-align: top;\n",
       "    }\n",
       "\n",
       "    .dataframe thead th {\n",
       "        text-align: right;\n",
       "    }\n",
       "</style>\n",
       "<table border=\"1\" class=\"dataframe\">\n",
       "  <thead>\n",
       "    <tr style=\"text-align: right;\">\n",
       "      <th></th>\n",
       "      <th>text</th>\n",
       "      <th>domain</th>\n",
       "      <th>label</th>\n",
       "    </tr>\n",
       "  </thead>\n",
       "  <tbody>\n",
       "    <tr>\n",
       "      <th>0</th>\n",
       "      <td>Thủ tướng Abe cúi đầu xin lỗi vì hành động phi...</td>\n",
       "      <td>binhluan.biz</td>\n",
       "      <td>1</td>\n",
       "    </tr>\n",
       "    <tr>\n",
       "      <th>1</th>\n",
       "      <td>Thủ tướng Nhật cúi đầu xin lỗi vì tinh thần ph...</td>\n",
       "      <td>www.ipick.vn</td>\n",
       "      <td>1</td>\n",
       "    </tr>\n",
       "    <tr>\n",
       "      <th>2</th>\n",
       "      <td>Choáng! Cơ trưởng đeo khăn quàng quẩy banh nóc...</td>\n",
       "      <td>tintucqpvn.net</td>\n",
       "      <td>1</td>\n",
       "    </tr>\n",
       "    <tr>\n",
       "      <th>3</th>\n",
       "      <td>Chưa bao giờ nhạc Kpop lại dễ hát đến thế!!!\\n...</td>\n",
       "      <td>tintucqpvn.net</td>\n",
       "      <td>1</td>\n",
       "    </tr>\n",
       "    <tr>\n",
       "      <th>4</th>\n",
       "      <td>Đại học Hutech sẽ áp dụng cải cách \"Tiếq Việt\"...</td>\n",
       "      <td>www.gioitreviet.net</td>\n",
       "      <td>1</td>\n",
       "    </tr>\n",
       "    <tr>\n",
       "      <th>...</th>\n",
       "      <td>...</td>\n",
       "      <td>...</td>\n",
       "      <td>...</td>\n",
       "    </tr>\n",
       "    <tr>\n",
       "      <th>218</th>\n",
       "      <td>“Siêu máy bay” A350 sẽ chở CĐV Việt Nam đi Mal...</td>\n",
       "      <td>dantri.com.vn</td>\n",
       "      <td>0</td>\n",
       "    </tr>\n",
       "    <tr>\n",
       "      <th>219</th>\n",
       "      <td>Thưởng 20.000 USD cho đội tuyển cờ vua Việt Na...</td>\n",
       "      <td>dantri.com.vn</td>\n",
       "      <td>0</td>\n",
       "    </tr>\n",
       "    <tr>\n",
       "      <th>220</th>\n",
       "      <td>Trường Sơn giành HCV tại giải cờ vua đồng đội ...</td>\n",
       "      <td>dantri.com.vn</td>\n",
       "      <td>0</td>\n",
       "    </tr>\n",
       "    <tr>\n",
       "      <th>221</th>\n",
       "      <td>Chuyện về chàng sinh viên Luật - Kiện tướng Lê...</td>\n",
       "      <td>dantri.com.vn</td>\n",
       "      <td>0</td>\n",
       "    </tr>\n",
       "    <tr>\n",
       "      <th>222</th>\n",
       "      <td>Tiền đạo Malaysia: “Tôi đã có cách vượt qua hà...</td>\n",
       "      <td>dantri.com.vn</td>\n",
       "      <td>0</td>\n",
       "    </tr>\n",
       "  </tbody>\n",
       "</table>\n",
       "<p>223 rows × 3 columns</p>\n",
       "</div>"
      ],
      "text/plain": [
       "                                                  text               domain  \\\n",
       "0    Thủ tướng Abe cúi đầu xin lỗi vì hành động phi...         binhluan.biz   \n",
       "1    Thủ tướng Nhật cúi đầu xin lỗi vì tinh thần ph...         www.ipick.vn   \n",
       "2    Choáng! Cơ trưởng đeo khăn quàng quẩy banh nóc...       tintucqpvn.net   \n",
       "3    Chưa bao giờ nhạc Kpop lại dễ hát đến thế!!!\\n...       tintucqpvn.net   \n",
       "4    Đại học Hutech sẽ áp dụng cải cách \"Tiếq Việt\"...  www.gioitreviet.net   \n",
       "..                                                 ...                  ...   \n",
       "218  “Siêu máy bay” A350 sẽ chở CĐV Việt Nam đi Mal...        dantri.com.vn   \n",
       "219  Thưởng 20.000 USD cho đội tuyển cờ vua Việt Na...        dantri.com.vn   \n",
       "220  Trường Sơn giành HCV tại giải cờ vua đồng đội ...        dantri.com.vn   \n",
       "221  Chuyện về chàng sinh viên Luật - Kiện tướng Lê...        dantri.com.vn   \n",
       "222  Tiền đạo Malaysia: “Tôi đã có cách vượt qua hà...        dantri.com.vn   \n",
       "\n",
       "     label  \n",
       "0        1  \n",
       "1        1  \n",
       "2        1  \n",
       "3        1  \n",
       "4        1  \n",
       "..     ...  \n",
       "218      0  \n",
       "219      0  \n",
       "220      0  \n",
       "221      0  \n",
       "222      0  \n",
       "\n",
       "[223 rows x 3 columns]"
      ]
     },
     "execution_count": 2,
     "metadata": {},
     "output_type": "execute_result"
    }
   ],
   "source": [
    "df=pd.read_csv('vn_news_223_tdlfr.csv')\n",
    "df"
   ]
  },
  {
   "cell_type": "markdown",
   "id": "3a926a9d",
   "metadata": {},
   "source": [
    "### I.  Tiền xử lý dữ liệu"
   ]
  },
  {
   "cell_type": "code",
   "execution_count": 3,
   "id": "c58bc275",
   "metadata": {},
   "outputs": [
    {
     "name": "stdout",
     "output_type": "stream",
     "text": [
      "True\n"
     ]
    }
   ],
   "source": [
    "stop_word=[]\n",
    "with open(\"vietnamese-stopwords.txt\",encoding=\"utf8\") as f:\n",
    "    for i in f:\n",
    "        i=i.replace('\\n','')\n",
    "        stop_word.append(i)\n",
    "print('xin' in stop_word)"
   ]
  },
  {
   "cell_type": "code",
   "execution_count": 4,
   "id": "a0193e2b",
   "metadata": {
    "scrolled": false
   },
   "outputs": [],
   "source": [
    "def preprocess(a):\n",
    "    a=a.lower()\n",
    "    a=re.sub(r'[^\\w\\s]','', a)\n",
    "    a=a.replace('\\n',' ')\n",
    "    for i in stop_word:\n",
    "        temp=' '+i+' '\n",
    "        if i in a:\n",
    "            a=a.replace(temp,' ')\n",
    "    return a"
   ]
  },
  {
   "cell_type": "code",
   "execution_count": 5,
   "id": "4a5125b0",
   "metadata": {},
   "outputs": [
    {
     "data": {
      "text/plain": [
       "'thủ tướng abe cúi đầu lỗi hành động phi thể thao tuyển nhật sankei sports thủ tướng nhật shinzo abe công khai gửi lỗi nhật hoàng toàn dân tinh thần thi đấu phi thể thao đội tuyển nhật world cup 2018  tối lượt trận vòng bảng world cup 2018 nhật phụ senegal đội thua colombia nhật vòng fairplay thẻ phạt thủ tướng nhật shinzo abe cúi đầu lỗi  tinh thần võ sĩ đạo samurai đội tuyển nhật hành động tinh thần thượng võ thi đấu world cup trích bất bình toàn dân hình ảnh kiên cường dân nhật đấu trường quốc tế đứng đầu thành trách nhiệm gửi lỗi sâu sắc nhân dân abe cúi đầu trách nhiệm nhật nổi tiếng tinh thần trách nhiệm chất võ sĩ đạo lý đội tuyển áo xanh mệnh danh samurai xanh nhiên nhật trích dội hâm mộ bóng đá lối bóng tiêu cực cố tình câu vé đi tiếp  phút trận vòng bảng lan trận colombia thắng senegal tỷ 10 tỉ tương cầu thủ nhật hề gỡ hòa cầu thủ nhật vui vẻ trận thua lan 01 vé vòng 16 đội  world cup 2018 fifa fair play quy định 1 thẻ vàng 1 2 thẻ vàng thành thẻ đỏ 3 thẻ đỏ 4 nhật 4 thẻ vàng senegal 6  sợ lãnh thẻ vàng nhật giết chết trận đấu phút liên tục chuyền bóng sân chí 5 phút cầu thủ nhật bóng sân đối phương bất chấp la ó huýt sáo cđv sân thầy trò hlv akira nishino dư luận trích  kết nhật colombia hai đội đi tiếp bảng h vòng nhật đối đầu đối thủ cực đt bỉ đội đi tiếp nhật colombia đt '"
      ]
     },
     "execution_count": 5,
     "metadata": {},
     "output_type": "execute_result"
    }
   ],
   "source": [
    "a=df.text[0]\n",
    "a=a.lower()\n",
    "a=re.sub(r'[^\\w\\s]','', a)\n",
    "a=a.replace('\\n',' ')\n",
    "for i in stop_word:\n",
    "    temp=' '+i+' '\n",
    "    if i in a:\n",
    "        a=a.replace(temp,' ')\n",
    "a"
   ]
  },
  {
   "cell_type": "code",
   "execution_count": 6,
   "id": "b53a1826",
   "metadata": {},
   "outputs": [
    {
     "name": "stderr",
     "output_type": "stream",
     "text": [
      "C:\\Users\\TechCare\\AppData\\Local\\Temp/ipykernel_23796/4207617690.py:2: SettingWithCopyWarning: \n",
      "A value is trying to be set on a copy of a slice from a DataFrame\n",
      "\n",
      "See the caveats in the documentation: https://pandas.pydata.org/pandas-docs/stable/user_guide/indexing.html#returning-a-view-versus-a-copy\n",
      "  df.text[i]= preprocess(df.text[i])\n"
     ]
    },
    {
     "data": {
      "text/plain": [
       "'thủ tướng abe cúi đầu lỗi hành động phi thể thao tuyển nhật sankei sports thủ tướng nhật shinzo abe công khai gửi lỗi nhật hoàng toàn dân tinh thần thi đấu phi thể thao đội tuyển nhật world cup 2018  tối lượt trận vòng bảng world cup 2018 nhật phụ senegal đội thua colombia nhật vòng fairplay thẻ phạt thủ tướng nhật shinzo abe cúi đầu lỗi  tinh thần võ sĩ đạo samurai đội tuyển nhật hành động tinh thần thượng võ thi đấu world cup trích bất bình toàn dân hình ảnh kiên cường dân nhật đấu trường quốc tế đứng đầu thành trách nhiệm gửi lỗi sâu sắc nhân dân abe cúi đầu trách nhiệm nhật nổi tiếng tinh thần trách nhiệm chất võ sĩ đạo lý đội tuyển áo xanh mệnh danh samurai xanh nhiên nhật trích dội hâm mộ bóng đá lối bóng tiêu cực cố tình câu vé đi tiếp  phút trận vòng bảng lan trận colombia thắng senegal tỷ 10 tỉ tương cầu thủ nhật hề gỡ hòa cầu thủ nhật vui vẻ trận thua lan 01 vé vòng 16 đội  world cup 2018 fifa fair play quy định 1 thẻ vàng 1 2 thẻ vàng thành thẻ đỏ 3 thẻ đỏ 4 nhật 4 thẻ vàng senegal 6  sợ lãnh thẻ vàng nhật giết chết trận đấu phút liên tục chuyền bóng sân chí 5 phút cầu thủ nhật bóng sân đối phương bất chấp la ó huýt sáo cđv sân thầy trò hlv akira nishino dư luận trích  kết nhật colombia hai đội đi tiếp bảng h vòng nhật đối đầu đối thủ cực đt bỉ đội đi tiếp nhật colombia đt '"
      ]
     },
     "execution_count": 6,
     "metadata": {},
     "output_type": "execute_result"
    }
   ],
   "source": [
    "for i in range(0,len(df)):\n",
    "    df.text[i]= preprocess(df.text[i])\n",
    "df.text[0]"
   ]
  },
  {
   "cell_type": "code",
   "execution_count": 7,
   "id": "18576078",
   "metadata": {
    "scrolled": true
   },
   "outputs": [
    {
     "data": {
      "text/plain": [
       "['thủ tướng',\n",
       " 'abe',\n",
       " 'cúi',\n",
       " 'đầu',\n",
       " 'lỗi',\n",
       " 'hành động',\n",
       " 'phi',\n",
       " 'thể thao',\n",
       " 'tuyển',\n",
       " 'nhật',\n",
       " 'sankei',\n",
       " 'sports',\n",
       " 'thủ tướng',\n",
       " 'nhật',\n",
       " 'shinzo',\n",
       " 'abe',\n",
       " 'công khai',\n",
       " 'gửi',\n",
       " 'lỗi',\n",
       " 'nhật',\n",
       " 'hoàng',\n",
       " 'toàn',\n",
       " 'dân',\n",
       " 'tinh thần',\n",
       " 'thi đấu',\n",
       " 'phi',\n",
       " 'thể thao',\n",
       " 'đội tuyển',\n",
       " 'nhật',\n",
       " 'world',\n",
       " 'cup',\n",
       " '2018',\n",
       " 'tối',\n",
       " 'lượt',\n",
       " 'trận',\n",
       " 'vòng',\n",
       " 'bảng',\n",
       " 'world',\n",
       " 'cup',\n",
       " '2018',\n",
       " 'nhật',\n",
       " 'phụ',\n",
       " 'senegal',\n",
       " 'đội',\n",
       " 'thua',\n",
       " 'colombia',\n",
       " 'nhật',\n",
       " 'vòng',\n",
       " 'fairplay',\n",
       " 'thẻ',\n",
       " 'phạt',\n",
       " 'thủ tướng',\n",
       " 'nhật',\n",
       " 'shinzo',\n",
       " 'abe',\n",
       " 'cúi',\n",
       " 'đầu',\n",
       " 'lỗi',\n",
       " 'tinh thần',\n",
       " 'võ sĩ đạo',\n",
       " 'samurai',\n",
       " 'đội tuyển',\n",
       " 'nhật',\n",
       " 'hành động',\n",
       " 'tinh thần',\n",
       " 'thượng võ',\n",
       " 'thi đấu',\n",
       " 'world',\n",
       " 'cup',\n",
       " 'trích',\n",
       " 'bất bình',\n",
       " 'toàn',\n",
       " 'dân',\n",
       " 'hình ảnh',\n",
       " 'kiên cường',\n",
       " 'dân',\n",
       " 'nhật',\n",
       " 'đấu trường',\n",
       " 'quốc tế',\n",
       " 'đứng',\n",
       " 'đầu',\n",
       " 'thành',\n",
       " 'trách nhiệm',\n",
       " 'gửi',\n",
       " 'lỗi',\n",
       " 'sâu sắc',\n",
       " 'nhân dân',\n",
       " 'abe',\n",
       " 'cúi',\n",
       " 'đầu',\n",
       " 'trách nhiệm',\n",
       " 'nhật',\n",
       " 'nổi tiếng',\n",
       " 'tinh thần',\n",
       " 'trách nhiệm',\n",
       " 'chất',\n",
       " 'võ sĩ',\n",
       " 'đạo lý',\n",
       " 'đội tuyển',\n",
       " 'áo',\n",
       " 'xanh',\n",
       " 'mệnh danh',\n",
       " 'samurai',\n",
       " 'xanh',\n",
       " 'nhiên',\n",
       " 'nhật',\n",
       " 'trích',\n",
       " 'dội',\n",
       " 'hâm mộ',\n",
       " 'bóng đá',\n",
       " 'lối',\n",
       " 'bóng',\n",
       " 'tiêu cực',\n",
       " 'cố tình',\n",
       " 'câu',\n",
       " 'vé',\n",
       " 'đi',\n",
       " 'tiếp',\n",
       " 'phút',\n",
       " 'trận',\n",
       " 'vòng',\n",
       " 'bảng',\n",
       " 'lan',\n",
       " 'trận',\n",
       " 'colombia',\n",
       " 'thắng',\n",
       " 'senegal',\n",
       " 'tỷ',\n",
       " '10',\n",
       " 'tỉ',\n",
       " 'tương',\n",
       " 'cầu thủ',\n",
       " 'nhật',\n",
       " 'hề',\n",
       " 'gỡ',\n",
       " 'hòa',\n",
       " 'cầu thủ',\n",
       " 'nhật',\n",
       " 'vui vẻ',\n",
       " 'trận',\n",
       " 'thua',\n",
       " 'lan',\n",
       " '01',\n",
       " 'vé',\n",
       " 'vòng',\n",
       " '16',\n",
       " 'đội',\n",
       " 'world',\n",
       " 'cup',\n",
       " '2018',\n",
       " 'fifa',\n",
       " 'fair',\n",
       " 'play',\n",
       " 'quy định',\n",
       " '1',\n",
       " 'thẻ vàng',\n",
       " '1',\n",
       " '2',\n",
       " 'thẻ vàng',\n",
       " 'thành',\n",
       " 'thẻ đỏ',\n",
       " '3',\n",
       " 'thẻ đỏ',\n",
       " '4',\n",
       " 'nhật',\n",
       " '4',\n",
       " 'thẻ vàng',\n",
       " 'senegal',\n",
       " '6',\n",
       " 'sợ',\n",
       " 'lãnh',\n",
       " 'thẻ vàng',\n",
       " 'nhật',\n",
       " 'giết',\n",
       " 'chết',\n",
       " 'trận',\n",
       " 'đấu',\n",
       " 'phút',\n",
       " 'liên tục',\n",
       " 'chuyền',\n",
       " 'bóng',\n",
       " 'sân',\n",
       " 'chí',\n",
       " '5',\n",
       " 'phút',\n",
       " 'cầu thủ',\n",
       " 'nhật',\n",
       " 'bóng',\n",
       " 'sân',\n",
       " 'đối phương',\n",
       " 'bất chấp',\n",
       " 'la ó',\n",
       " 'huýt sáo',\n",
       " 'cđv',\n",
       " 'sân',\n",
       " 'thầy trò',\n",
       " 'hlv',\n",
       " 'akira',\n",
       " 'nishino',\n",
       " 'dư luận',\n",
       " 'trích',\n",
       " 'kết',\n",
       " 'nhật',\n",
       " 'colombia',\n",
       " 'hai',\n",
       " 'đội',\n",
       " 'đi',\n",
       " 'tiếp',\n",
       " 'bảng',\n",
       " 'h',\n",
       " 'vòng',\n",
       " 'nhật',\n",
       " 'đối đầu',\n",
       " 'đối thủ',\n",
       " 'cực',\n",
       " 'đt',\n",
       " 'bỉ',\n",
       " 'đội',\n",
       " 'đi',\n",
       " 'tiếp',\n",
       " 'nhật',\n",
       " 'colombia',\n",
       " 'đt']"
      ]
     },
     "execution_count": 7,
     "metadata": {},
     "output_type": "execute_result"
    }
   ],
   "source": [
    "fact=df.text[0]\n",
    "arr=word_tokenize(fact)\n",
    "arr"
   ]
  },
  {
   "cell_type": "markdown",
   "id": "3ede46ab",
   "metadata": {},
   "source": [
    "### II. EDA - Khai phá tập dữ liệu:"
   ]
  },
  {
   "cell_type": "markdown",
   "id": "cd9d37e5",
   "metadata": {},
   "source": [
    "#### Phân bố của các nhãn"
   ]
  },
  {
   "cell_type": "code",
   "execution_count": 33,
   "id": "747c2074",
   "metadata": {
    "scrolled": true
   },
   "outputs": [
    {
     "data": {
      "text/plain": [
       "<AxesSubplot:>"
      ]
     },
     "execution_count": 33,
     "metadata": {},
     "output_type": "execute_result"
    },
    {
     "data": {
      "image/png": "[encoded data removed]",
      "text/plain": [
       "<Figure size 432x288 with 1 Axes>"
      ]
     },
     "metadata": {
      "needs_background": "light"
     },
     "output_type": "display_data"
    }
   ],
   "source": [
    "df[\"label\"].hist()"
   ]
  },
  {
   "cell_type": "markdown",
   "id": "588d2452",
   "metadata": {},
   "source": [
    "### Tương quan độ dài của text giữa hai nhãn 0 và 1"
   ]
  },
  {
   "cell_type": "code",
   "execution_count": 25,
   "id": "1aada323",
   "metadata": {},
   "outputs": [],
   "source": [
    "one_text=[]\n",
    "zero_text=[]\n",
    "for i in range(0,len(df)):\n",
    "    if df.label[i]==1:\n",
    "        one_text.append(len(df.text[i]))\n",
    "    else:\n",
    "        zero_text.append(len(df.text[i]))\n",
    "   "
   ]
  },
  {
   "cell_type": "code",
   "execution_count": 30,
   "id": "f17c3403",
   "metadata": {
    "scrolled": true
   },
   "outputs": [
    {
     "data": {
      "image/png": "[encoded data removed]",
      "text/plain": [
       "<Figure size 432x288 with 2 Axes>"
      ]
     },
     "metadata": {
      "needs_background": "light"
     },
     "output_type": "display_data"
    }
   ],
   "source": [
    "plt.subplot(1, 2, 1)\n",
    "plt.hist(zero_text)\n",
    "plt.title('0')\n",
    "\n",
    "plt.subplot(1, 2, 2)\n",
    "plt.hist(one_text)\n",
    "plt.title('1')\n",
    "\n",
    "plt.show()"
   ]
  },
  {
   "cell_type": "markdown",
   "id": "e424fda7",
   "metadata": {},
   "source": [
    "### Tương quan độ dài của domain giữa hai nhãn 0 và 1"
   ]
  },
  {
   "cell_type": "code",
   "execution_count": 31,
   "id": "6e051e54",
   "metadata": {},
   "outputs": [],
   "source": [
    "one_domain=[]\n",
    "zero_domain=[]\n",
    "for i in range(0,len(df)):\n",
    "    if df.label[i]==1:\n",
    "        one_domain.append(len(df.domain[i]))\n",
    "    else:\n",
    "        zero_domain.append(len(df.domain[i]))"
   ]
  },
  {
   "cell_type": "code",
   "execution_count": 32,
   "id": "4a8dd532",
   "metadata": {
    "scrolled": true
   },
   "outputs": [
    {
     "data": {
      "image/png": "[encoded data removed]",
      "text/plain": [
       "<Figure size 432x288 with 2 Axes>"
      ]
     },
     "metadata": {
      "needs_background": "light"
     },
     "output_type": "display_data"
    }
   ],
   "source": [
    "plt.subplot(1, 2, 1)\n",
    "plt.hist(zero_domain)\n",
    "plt.title('0')\n",
    "\n",
    "plt.subplot(1, 2, 2)\n",
    "plt.hist(one_domain)\n",
    "plt.title('1')\n",
    "\n",
    "plt.show()"
   ]
  },
  {
   "cell_type": "markdown",
   "id": "1034017f",
   "metadata": {},
   "source": [
    "### III. Mô hình hóa dữ liệu"
   ]
  },
  {
   "cell_type": "markdown",
   "id": "04c44351",
   "metadata": {},
   "source": [
    "### 1. Mô hình Passive Aggressive Classifier"
   ]
  },
  {
   "cell_type": "code",
   "execution_count": 3,
   "id": "ccc7120f",
   "metadata": {},
   "outputs": [],
   "source": [
    "stop_word=[]\n",
    "with open(\"vietnamese-stopwords.txt\",encoding=\"utf8\") as f:\n",
    "    for i in f:\n",
    "        i=i.replace('\\n','')\n",
    "        stop_word.append(i)"
   ]
  },
  {
   "cell_type": "code",
   "execution_count": 13,
   "id": "fcdd09a1",
   "metadata": {},
   "outputs": [
    {
     "name": "stderr",
     "output_type": "stream",
     "text": [
      "C:\\Users\\TechCare\\AppData\\Local\\Temp/ipykernel_19472/2039460206.py:11: SettingWithCopyWarning: \n",
      "A value is trying to be set on a copy of a slice from a DataFrame\n",
      "\n",
      "See the caveats in the documentation: https://pandas.pydata.org/pandas-docs/stable/user_guide/indexing.html#returning-a-view-versus-a-copy\n",
      "  df.text[i]= preprocess(df.text[i])\n"
     ]
    },
    {
     "data": {
      "text/plain": [
       "'siêu máy bay a350 chở cđv việt nam đi malaysia cổ vũ kết lượt đi siêu máy bay a350900 vietnam airlines chở cđv việt nam đi malaysia cổ vũ đội tuyển quốc gia đá trận kết lượt đi vietnam airlines 6 chuyến bay cường đi kuala lumpur 3 chuyến khởi hành hà nội 2 chuyến tphcm 1 chuyến đà nẵng chuyến bay vietnam airlines bố trí máy bay a350900 hiện đại tiện nghi ghế 305 chỗ cạnh máy bay a321 tiêu chuẩn 4 quốc tế phục vụ cổ động viên chuyến bay dự kiến khởi hành việt nam đi malaysia việt nam đêm chuyến bay lệ 2 chuyếnngày hà nội tphcm  kuala lumpur 712 1112 vietnam airlines cung 3000 chỗ cổ động viên sân vận động bukit jalil malaysia cổ vũ đội tuyển việt nam ghi chuyến bay vietnam airlines chỗ hãng xây dựng phương án chuyến bố trí máy bay chở cổ động viên phục vụ nhu cầu hâm mộ vietnam airlines phối hợp công ty du lịch xây dựng chương trình du lịch trọn gói 1112 sở kết hợp vé máy bay chuyến bay dịch vụ lữ hành giúp cổ động viên thoải mái tận hưởng khí trận kết lượt đi dịch vụ tour trọn gói bao vé máy bay khứ hồi vé trận kết hướng viên chi phí uống đi miền bắc hà nội đi kuala lumpur hanoi redtours vietravel  ha noi esperantutur bluesky travel miền trung đà nẵng đi đi kuala lumpur vietravel  đà nẵng vietnam travelmart cát việt saigontourist  đà nẵng miền nam tphcm đi kuala lumpur vietravel saigontourist transviet travel thông chi tiết hàng thể truy cập trang web wwwvietnamairlinescom trang facebook thức địa wwwfacebookcomvietnamairlines liên hệ tổng đài trung tâm chăm sóc hàng 1900 1100 nhật minh'"
      ]
     },
     "execution_count": 13,
     "metadata": {},
     "output_type": "execute_result"
    }
   ],
   "source": [
    "def preprocess(a):\n",
    "    a=a.lower()\n",
    "    a=re.sub(r'[^\\w\\s]','', a)\n",
    "    a=a.replace('\\n',' ')\n",
    "    for i in stop_word:\n",
    "        temp=' '+i+' '\n",
    "        if i in a:\n",
    "            a=a.replace(temp,' ')\n",
    "    return a\n",
    "for i in range(0,len(df)):\n",
    "    df.text[i]= preprocess(df.text[i])\n",
    "df.text[218]"
   ]
  },
  {
   "cell_type": "code",
   "execution_count": 5,
   "id": "5e4abae3",
   "metadata": {
    "id": "IX0h9j6HTrvM",
    "outputId": "8fc230b7-e201-4f63-ad63-b27967a2322e"
   },
   "outputs": [
    {
     "data": {
      "text/plain": [
       "0    1\n",
       "1    1\n",
       "2    1\n",
       "3    1\n",
       "4    1\n",
       "Name: label, dtype: int64"
      ]
     },
     "execution_count": 5,
     "metadata": {},
     "output_type": "execute_result"
    }
   ],
   "source": [
    "#lấy các nhãn từ Dataframe\n",
    "labels=df.label"
   ]
  },
  {
   "cell_type": "code",
   "execution_count": 6,
   "id": "d7a7404c",
   "metadata": {
    "id": "Bu8qIKJxTrvP"
   },
   "outputs": [],
   "source": [
    "#Chia bộ dữ liệu\n",
    "x_train,x_test,y_train,y_test=train_test_split(df['text'], labels, test_size=0.2, random_state=7)"
   ]
  },
  {
   "cell_type": "code",
   "execution_count": 7,
   "id": "c6649620",
   "metadata": {
    "id": "gKI26L8iTrvR"
   },
   "outputs": [
    {
     "name": "stderr",
     "output_type": "stream",
     "text": [
      "e:\\python39\\lib\\site-packages\\sklearn\\feature_extraction\\text.py:396: UserWarning: Your stop_words may be inconsistent with your preprocessing. Tokenizing the stop words generated tokens ['bao', 'bay', 'biến', 'biệt', 'bây', 'bõm', 'bảo', 'bất', 'bẩy', 'bập', 'bắt', 'bội', 'chao', 'chi', 'chia', 'chu', 'chui', 'chuẩn', 'chà', 'chành', 'chí', 'chót', 'chùn', 'chăn', 'chũn', 'chưng', 'chạnh', 'chả', 'chầm', 'chầy', 'chập', 'chắn', 'chẳng', 'chết', 'chốc', 'chừ', 'chừng', 'coi', 'cu', 'cá', 'câu', 'cóc', 'công', 'cạnh', 'cảm', 'cầu', 'cật', 'cắt', 'cổ', 'cụ', 'cục', 'cực', 'da', 'dà', 'dĩ', 'dưng', 'dần', 'dầu', 'dịp', 'dở', 'dụng', 'gian', 'giá', 'giác', 'giời', 'ha', 'hiện', 'hoàn', 'hèn', 'hình', 'hô', 'hầu', 'hậu', 'hẳn', 'hồ', 'hỗ', 'hội', 'hợp', 'hự', 'khói', 'khô', 'khăn', 'khắc', 'khẳng', 'kia', 'kiện', 'kê', 'kì', 'kìa', 'kỳ', 'lai', 'le', 'liên', 'liệt', 'loạt', 'luận', 'luật', 'luốt', 'lình', 'lí', 'lô', 'lý', 'lập', 'lẽ', 'lị', 'lự', 'lực', 'mày', 'mòi', 'mù', 'mạng', 'mấy', 'mẹ', 'mực', 'nghiễm', 'ngõ', 'ngăn', 'ngắt', 'ngộ', 'ngờ', 'nhiên', 'nhiêu', 'nhiệt', 'nhung', 'nhân', 'nhén', 'nhón', 'nhăng', 'nhược', 'nhỡ', 'nả', 'nỗi', 'nở', 'nức', 'oai', 'phi', 'phui', 'phàm', 'phù', 'phăn', 'phương', 'phỉ', 'quan', 'qui', 'quy', 'quyết', 'ren', 'riu', 'ríu', 'rón', 'rút', 'rốt', 'sa', 'sinh', 'song', 'sả', 'sẻ', 'sốt', 'sột', 'sở', 'sợ', 'sức', 'sử', 'ta', 'te', 'tha', 'than', 'thay', 'thi', 'thiên', 'thiết', 'thoảng', 'thành', 'thái', 'tháo', 'thân', 'thình', 'thúng', 'thương', 'thảo', 'thảy', 'thắng', 'thể', 'thỉnh', 'thị', 'thời', 'thục', 'thử', 'thực', 'tiên', 'tiếp', 'tiện', 'tiệt', 'toàn', 'toé', 'trung', 'tráo', 'trình', 'trí', 'trạng', 'trạo', 'trếu', 'trệu', 'trị', 'trọi', 'trọng', 'trời', 'trở', 'trợ', 'trừ', 'trực', 'tuyệt', 'tuần', 'tuốt', 'tuồn', 'tuồng', 'tuột', 'tà', 'tàn', 'tán', 'tâm', 'tê', 'tì', 'tình', 'tít', 'tò', 'tông', 'tù', 'tăm', 'tả', 'tất', 'tần', 'tập', 'tật', 'tế', 'tề', 'tỏ', 'tốc', 'tối', 'tục', 'tức', 'tử', 'tựu', 'vung', 'vàn', 'ví', 'vô', 'văng', 'vạn', 'vả', 'vấn', 'vẻ', 'vị', 'vốn', 'xiết', 'xon', 'xoành', 'xoạch', 'xuất', 'xón', 'xúi', 'xăm', 'xưa', 'xả', 'xảy', 'xắm', 'xềnh', 'xệch', 'xử', 'xửa', 'yêu', 'âu', 'ôi', 'đi', 'đành', 'đán', 'đánh', 'đáo', 'đùng', 'đơn', 'đạch', 'đại', 'đảm', 'đất', 'đấy', 'đầu', 'đặc', 'đề', 'địa', 'định', 'đối', 'đồ', 'đồng', 'đổi', 'ơn', 'ầu', 'ối'] not in stop_words.\n",
      "  warnings.warn(\n"
     ]
    }
   ],
   "source": [
    "#Khởi tạo TfidfVectorizer\n",
    "tfidf_vectorizer=TfidfVectorizer(stop_words=stop_word, max_df=0.7)\n",
    "\n",
    "#Fit and transform train set, transform test set\n",
    "tfidf_train=tfidf_vectorizer.fit_transform(x_train) \n",
    "tfidf_test=tfidf_vectorizer.transform(x_test)"
   ]
  },
  {
   "cell_type": "code",
   "execution_count": 8,
   "id": "b21588a0",
   "metadata": {
    "id": "-ximHjNzTrvU",
    "outputId": "86388a75-5c40-44ab-ea00-d1228ab457b2",
    "scrolled": true
   },
   "outputs": [
    {
     "name": "stdout",
     "output_type": "stream",
     "text": [
      "Accuracy: 91.11%\n"
     ]
    }
   ],
   "source": [
    "#Khởi tạo PassiveAggressiveClassifier\n",
    "pac=PassiveAggressiveClassifier(max_iter=50)\n",
    "pac.fit(tfidf_train,y_train)\n",
    "\n",
    "#Dự đoán trên test set và tính toán độ chính xác\n",
    "y_pred=pac.predict(tfidf_test)\n",
    "\n",
    "score=accuracy_score(y_test,y_pred)\n",
    "print(f'Accuracy: {round(score*100,2)}%')\n",
    "\n",
    "\n"
   ]
  },
  {
   "cell_type": "code",
   "execution_count": 20,
   "id": "54f238d4",
   "metadata": {},
   "outputs": [
    {
     "name": "stdout",
     "output_type": "stream",
     "text": [
      "[1]\n"
     ]
    }
   ],
   "source": [
    "# sample=[\"siêu máy bay a350 chở cđv việt nam đi malaysia cổ vũ kết lượt đi siêu máy bay a350900 vietnam airlines chở cđv việt nam đi malaysia cổ vũ đội tuyển quốc gia đá trận kết lượt đi vietnam airlines 6 chuyến bay cường đi kuala lumpur 3 chuyến khởi hành hà nội 2 chuyến tphcm 1 chuyến đà nẵng chuyến bay vietnam airlines bố trí máy bay a350900 hiện đại tiện nghi ghế 305 chỗ cạnh máy bay a321 tiêu chuẩn 4 quốc tế phục vụ cổ động viên chuyến bay dự kiến khởi hành việt nam đi malaysia việt nam đêm chuyến bay lệ 2 chuyếnngày hà nội tphcm  kuala lumpur 712 1112 vietnam airlines cung 3000 chỗ cổ động viên sân vận động bukit jalil malaysia cổ vũ đội tuyển việt nam ghi chuyến bay vietnam airlines chỗ hãng xây dựng phương án chuyến bố trí máy bay chở cổ động viên phục vụ nhu cầu hâm mộ vietnam airlines phối hợp công ty du lịch xây dựng chương trình du lịch trọn gói 1112 sở kết hợp vé máy bay chuyến bay dịch vụ lữ hành giúp cổ động viên thoải mái tận hưởng khí trận kết lượt đi dịch vụ tour trọn gói bao vé máy bay khứ hồi vé trận kết hướng viên chi phí uống đi miền bắc hà nội đi kuala lumpur hanoi redtours vietravel  ha noi esperantutur bluesky travel miền trung đà nẵng đi đi kuala lumpur vietravel  đà nẵng vietnam travelmart cát việt saigontourist  đà nẵng miền nam tphcm đi kuala lumpur vietravel saigontourist transviet travel thông chi tiết hàng thể truy cập trang web wwwvietnamairlinescom trang facebook thức địa wwwfacebookcomvietnamairlines liên hệ tổng đài trung tâm chăm sóc hàng 1900 1100 nhật minh\"]\n",
    "# sample_test=pac.predict(sample)\n",
    "# sample=['Mới đây, chuyên gia giáo dục Tô Thụy Diễm Quyên (cô giáo được Microsoft công nhận là chuyên gia giáo dục toàn cầu) cũng có bài viết đưa ra góc nhìn của mình về vụ bé V.A bị Nguyễn Võ Quỳnh Trang hành hạ.']\n",
    "# sample=['Ngày 3/1, Công an TP.Thủ Đức, TPHCM đang lấy lời khai Huỳnh Ngọc Ánh Tuyết (27 tuổi, ngụ Bình Dương), Nguyễn Xuân Mai (19 tuổi, quê Cà Mau), Tống Hoàng Hải (25 tuổi), Nguyễn Thị Khánh Linh (27 tuổi), Phạm Văn Trung (26 tuổi), Ngô Anh Vũ (27 tuổi) và Ngô Thiên Lộc (24 tuổi, ngụ TP.Thủ Đức) về hành vi cố ý gây thương tích. Trước đó vào tối 31/12/2021, chị Huỳnh Thị L. (26 tuổi, quê Tây Ninh) cùng 3 cô gái khác có ngồi cạnh nhóm của Linh gồm khoảng 20 người tại một quán nhậu.Trong lúc ăn uống, một số thanh niên trong nhóm của Linh qua bàn để mời chị L và nhóm bạn uống bia, xin số điện thoại nhưng nhóm chị L không đồng ý nên phát sinh mâu thuẫn. Cho rằng mình bị coi thường, nhóm thanh niên chửi bới và hất bia vào nhóm chị L. Sau đó, Linh cùng Mai, Tuyết... cầm ly bia tấn công nhóm 4 cô gái.']\n",
    "# sample=['Thượng tá Vũ Mạnh Hà, Phó giám đốc Công an tỉnh Thái Bình nói sẽ cho kiểm tra việc Nguyễn Thị Dương lấy sơn móng, son ở đâu để trang điểm trước khi ra tòa. Ông Hà khẳng định, son môi hay vật dụng sơn sửa móng đều bị cấm đưa vào trại giam']\n",
    "# sample=['Bí thư thành phố chỉ đạo: Sẽ không cho người dân di chuyển trong 7 ngày, ở nhà sẽ ở nhà 7 ngày, đi làm công sở thì ở công sở 7 ngày, đi làm phân xưởng thì ở phân xưởng 7 ngày; cơ bản không để cho người dân di chuyển trong 7 ngày']\n",
    "sample=['Anh Kiên là người anh tuyệt vời và rất yêu thương đàn em, không bao giờ chửi đàn em của mình cả']\n",
    "tfidf_test=tfidf_vectorizer.transform(sample)\n",
    "y_pred=pac.predict(tfidf_test)\n",
    "print(y_pred)"
   ]
  },
  {
   "cell_type": "markdown",
   "id": "a1e76c0e",
   "metadata": {},
   "source": [
    "### 2. Mô hình Logistic Regression\n"
   ]
  },
  {
   "cell_type": "code",
   "execution_count": null,
   "id": "bc2627fb",
   "metadata": {},
   "outputs": [],
   "source": []
  }
 ],
 "metadata": {
  "kernelspec": {
   "display_name": "Python 3 (ipykernel)",
   "language": "python",
   "name": "python3"
  },
  "language_info": {
   "codemirror_mode": {
    "name": "ipython",
    "version": 3
   },
   "file_extension": ".py",
   "mimetype": "text/x-python",
   "name": "python",
   "nbconvert_exporter": "python",
   "pygments_lexer": "ipython3",
   "version": "3.9.6"
  }
 },
 "nbformat": 4,
 "nbformat_minor": 5
}
